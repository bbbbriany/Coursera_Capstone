{
 "cells": [
  {
   "cell_type": "markdown",
   "id": "75c6ca81-18f0-47ab-b432-3a7c57b24075",
   "metadata": {},
   "source": [
    "## Create a DataFrame of Neighborhoodin Toronto.\n",
    "\n",
    "I used the list from wikipedia and built a dataframe of postalcode in toronto which columns are 'PostalCode', 'Borough' and 'Neighborhood'."
   ]
  },
  {
   "cell_type": "code",
   "execution_count": 204,
   "id": "e067178e-1f8d-41aa-b22e-4432e96cfc1d",
   "metadata": {},
   "outputs": [],
   "source": [
    "# Import libraries\n",
    "import pandas as pd\n",
    "import requests\n",
    "from bs4 import BeautifulSoup"
   ]
  },
  {
   "cell_type": "code",
   "execution_count": 205,
   "id": "8029f937-aa33-4c68-b760-8f648449a895",
   "metadata": {},
   "outputs": [],
   "source": [
    "# Get the data from wiki\n",
    "wiki_url = requests.get('https://en.wikipedia.org/wiki/List_of_postal_codes_of_Canada:_M').text"
   ]
  },
  {
   "cell_type": "code",
   "execution_count": 206,
   "id": "f2bf3692-eaa1-4853-a686-602ad822500f",
   "metadata": {},
   "outputs": [],
   "source": [
    "# Parse the html data using BeautifulSoup\n",
    "soup = BeautifulSoup(wiki_url, 'html.parser')"
   ]
  },
  {
   "cell_type": "code",
   "execution_count": 207,
   "id": "a84a0cff-f5b9-4a1a-91f3-debcf4c05bf7",
   "metadata": {},
   "outputs": [],
   "source": [
    "# Find table in the website containing the data we need\n",
    "postal_table = soup.find('table', attrs = {'rules': 'all'})"
   ]
  },
  {
   "cell_type": "markdown",
   "id": "acc06851-953f-4b4a-bdb2-8a8c34ffe422",
   "metadata": {},
   "source": [
    "The table in wikipedia is not the general format of html table, so I tried to scrap the data from every cell."
   ]
  },
  {
   "cell_type": "code",
   "execution_count": 208,
   "id": "9177ca4f-ee76-496e-b857-26a541650e2d",
   "metadata": {},
   "outputs": [],
   "source": [
    "# Create a dataframe\n",
    "column = ['PostalCode', 'Borough', 'Neighborhood']\n",
    "df_toronto = pd.DataFrame(columns = column)\n",
    "\n",
    "# Filter every td and insert to df_toronto\n",
    "\n",
    "for td in postal_table.find_all('td'):\n",
    "    if td.span.text != 'Not assigned':\n",
    "        postal_code = td.find('b').text\n",
    "        borough = td.find('span').text.split('(')[0]\n",
    "        neighbor = td.find('span').text.split('(')[1].strip(')').replace(' /', ',').replace(')', ' ').strip(' ')\n",
    "    \n",
    "        df_toronto = df_toronto.append({'PostalCode': postal_code, 'Borough': borough, 'Neighborhood': neighbor}, ignore_index = True)\n",
    "        \n",
    "# Replace the borough names which is too long\n",
    "df_toronto['Borough']=df_toronto['Borough'].replace({'Downtown TorontoStn A PO Boxes25 The Esplanade':'Downtown Toronto Stn A',\n",
    "                                                     'East TorontoBusiness reply mail Processing Centre969 Eastern':'East Toronto Business',\n",
    "                                                     'EtobicokeNorthwest':'Etobicoke Northwest','East YorkEast Toronto':'East York/East Toronto',\n",
    "                                                     'MississaugaCanada Post Gateway Processing Centre':'Mississauga'})"
   ]
  },
  {
   "cell_type": "code",
   "execution_count": 209,
   "id": "a2537d91-1072-4c70-bf82-717062c721f6",
   "metadata": {},
   "outputs": [
    {
     "data": {
      "text/html": [
       "<div>\n",
       "<style scoped>\n",
       "    .dataframe tbody tr th:only-of-type {\n",
       "        vertical-align: middle;\n",
       "    }\n",
       "\n",
       "    .dataframe tbody tr th {\n",
       "        vertical-align: top;\n",
       "    }\n",
       "\n",
       "    .dataframe thead th {\n",
       "        text-align: right;\n",
       "    }\n",
       "</style>\n",
       "<table border=\"1\" class=\"dataframe\">\n",
       "  <thead>\n",
       "    <tr style=\"text-align: right;\">\n",
       "      <th></th>\n",
       "      <th>PostalCode</th>\n",
       "      <th>Borough</th>\n",
       "      <th>Neighborhood</th>\n",
       "    </tr>\n",
       "  </thead>\n",
       "  <tbody>\n",
       "    <tr>\n",
       "      <th>0</th>\n",
       "      <td>M3A</td>\n",
       "      <td>North York</td>\n",
       "      <td>Parkwoods</td>\n",
       "    </tr>\n",
       "    <tr>\n",
       "      <th>1</th>\n",
       "      <td>M4A</td>\n",
       "      <td>North York</td>\n",
       "      <td>Victoria Village</td>\n",
       "    </tr>\n",
       "    <tr>\n",
       "      <th>2</th>\n",
       "      <td>M5A</td>\n",
       "      <td>Downtown Toronto</td>\n",
       "      <td>Regent Park, Harbourfront</td>\n",
       "    </tr>\n",
       "    <tr>\n",
       "      <th>3</th>\n",
       "      <td>M6A</td>\n",
       "      <td>North York</td>\n",
       "      <td>Lawrence Manor, Lawrence Heights</td>\n",
       "    </tr>\n",
       "    <tr>\n",
       "      <th>4</th>\n",
       "      <td>M7A</td>\n",
       "      <td>Queen's Park</td>\n",
       "      <td>Ontario Provincial Government</td>\n",
       "    </tr>\n",
       "    <tr>\n",
       "      <th>...</th>\n",
       "      <td>...</td>\n",
       "      <td>...</td>\n",
       "      <td>...</td>\n",
       "    </tr>\n",
       "    <tr>\n",
       "      <th>98</th>\n",
       "      <td>M8X</td>\n",
       "      <td>Etobicoke</td>\n",
       "      <td>The Kingsway, Montgomery Road, Old Mill North</td>\n",
       "    </tr>\n",
       "    <tr>\n",
       "      <th>99</th>\n",
       "      <td>M4Y</td>\n",
       "      <td>Downtown Toronto</td>\n",
       "      <td>Church and Wellesley</td>\n",
       "    </tr>\n",
       "    <tr>\n",
       "      <th>100</th>\n",
       "      <td>M7Y</td>\n",
       "      <td>East Toronto Business</td>\n",
       "      <td>Enclave of M4L</td>\n",
       "    </tr>\n",
       "    <tr>\n",
       "      <th>101</th>\n",
       "      <td>M8Y</td>\n",
       "      <td>Etobicoke</td>\n",
       "      <td>Old Mill South, King's Mill Park, Sunnylea, Hu...</td>\n",
       "    </tr>\n",
       "    <tr>\n",
       "      <th>102</th>\n",
       "      <td>M8Z</td>\n",
       "      <td>Etobicoke</td>\n",
       "      <td>Mimico NW, The Queensway West, South of Bloor,...</td>\n",
       "    </tr>\n",
       "  </tbody>\n",
       "</table>\n",
       "<p>103 rows × 3 columns</p>\n",
       "</div>"
      ],
      "text/plain": [
       "    PostalCode                Borough  \\\n",
       "0          M3A             North York   \n",
       "1          M4A             North York   \n",
       "2          M5A       Downtown Toronto   \n",
       "3          M6A             North York   \n",
       "4          M7A           Queen's Park   \n",
       "..         ...                    ...   \n",
       "98         M8X              Etobicoke   \n",
       "99         M4Y       Downtown Toronto   \n",
       "100        M7Y  East Toronto Business   \n",
       "101        M8Y              Etobicoke   \n",
       "102        M8Z              Etobicoke   \n",
       "\n",
       "                                          Neighborhood  \n",
       "0                                            Parkwoods  \n",
       "1                                     Victoria Village  \n",
       "2                            Regent Park, Harbourfront  \n",
       "3                     Lawrence Manor, Lawrence Heights  \n",
       "4                        Ontario Provincial Government  \n",
       "..                                                 ...  \n",
       "98       The Kingsway, Montgomery Road, Old Mill North  \n",
       "99                                Church and Wellesley  \n",
       "100                                     Enclave of M4L  \n",
       "101  Old Mill South, King's Mill Park, Sunnylea, Hu...  \n",
       "102  Mimico NW, The Queensway West, South of Bloor,...  \n",
       "\n",
       "[103 rows x 3 columns]"
      ]
     },
     "execution_count": 209,
     "metadata": {},
     "output_type": "execute_result"
    }
   ],
   "source": [
    "df_toronto"
   ]
  },
  {
   "cell_type": "markdown",
   "id": "2a6b67f7-73ac-40f3-9442-a4f48bcd096f",
   "metadata": {},
   "source": [
    "The shape of our dataframe is (103, 3)"
   ]
  },
  {
   "cell_type": "code",
   "execution_count": 210,
   "id": "db281c3f-62a7-41a6-96b9-14032f520161",
   "metadata": {},
   "outputs": [
    {
     "data": {
      "text/plain": [
       "(103, 3)"
      ]
     },
     "execution_count": 210,
     "metadata": {},
     "output_type": "execute_result"
    }
   ],
   "source": [
    "df_toronto.shape"
   ]
  },
  {
   "cell_type": "code",
   "execution_count": null,
   "id": "50dc3c06-9a1f-4f33-b96d-a4a0403bab19",
   "metadata": {},
   "outputs": [],
   "source": []
  }
 ],
 "metadata": {
  "kernelspec": {
   "display_name": "Python 3",
   "language": "python",
   "name": "python3"
  },
  "language_info": {
   "codemirror_mode": {
    "name": "ipython",
    "version": 3
   },
   "file_extension": ".py",
   "mimetype": "text/x-python",
   "name": "python",
   "nbconvert_exporter": "python",
   "pygments_lexer": "ipython3",
   "version": "3.8.5"
  }
 },
 "nbformat": 4,
 "nbformat_minor": 5
}
